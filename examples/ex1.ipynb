{
 "cells": [
  {
   "attachments": {},
   "cell_type": "markdown",
   "metadata": {},
   "source": [
    "# Start AGVis"
   ]
  },
  {
   "cell_type": "code",
   "execution_count": 1,
   "metadata": {},
   "outputs": [],
   "source": [
    "import agvis"
   ]
  },
  {
   "cell_type": "code",
   "execution_count": 2,
   "metadata": {},
   "outputs": [
    {
     "data": {
      "text/plain": [
       "'3.0.0.post34+g8b1af41'"
      ]
     },
     "execution_count": 2,
     "metadata": {},
     "output_type": "execute_result"
    }
   ],
   "source": [
    "agvis.__version__"
   ]
  },
  {
   "cell_type": "code",
   "execution_count": 3,
   "metadata": {},
   "outputs": [],
   "source": [
    "agvis.config_logger(10)"
   ]
  },
  {
   "cell_type": "code",
   "execution_count": 4,
   "metadata": {},
   "outputs": [],
   "source": [
    "web = agvis.webapp()"
   ]
  },
  {
   "cell_type": "code",
   "execution_count": 5,
   "metadata": {},
   "outputs": [
    {
     "name": "stderr",
     "output_type": "stream",
     "text": [
      "AGVis serves on http://localhost:8810\n"
     ]
    },
    {
     "data": {
      "text/plain": [
       "True"
      ]
     },
     "execution_count": 5,
     "metadata": {},
     "output_type": "execute_result"
    },
    {
     "name": "stderr",
     "output_type": "stream",
     "text": [
      "127.0.0.1 - - [23/Apr/2023 17:28:19] \"GET / HTTP/1.1\" 200 -\n",
      "127.0.0.1 - - [23/Apr/2023 17:28:19] \"GET /js/dime.js HTTP/1.1\" 200 -\n",
      "127.0.0.1 - - [23/Apr/2023 17:28:19] \"GET /js/NDArray.js HTTP/1.1\" 200 -\n",
      "127.0.0.1 - - [23/Apr/2023 17:28:19] \"GET /js/CanvasLayer.js HTTP/1.1\" 200 -\n",
      "127.0.0.1 - - [23/Apr/2023 17:28:19] \"GET /js/TopologyLayer.js HTTP/1.1\" 200 -\n",
      "127.0.0.1 - - [23/Apr/2023 17:28:19] \"GET /js/TopMulti.js HTTP/1.1\" 200 -\n",
      "127.0.0.1 - - [23/Apr/2023 17:28:19] \"GET /js/ContMulti.js HTTP/1.1\" 200 -\n",
      "127.0.0.1 - - [23/Apr/2023 17:28:19] \"GET /js/PlayMulti.js HTTP/1.1\" 200 -\n",
      "127.0.0.1 - - [23/Apr/2023 17:28:19] \"GET /js/ContourLayer.js HTTP/1.1\" 200 -\n",
      "127.0.0.1 - - [23/Apr/2023 17:28:19] \"GET /js/CommunicationLayer.js HTTP/1.1\" 200 -\n",
      "127.0.0.1 - - [23/Apr/2023 17:28:19] \"GET /js/SearchLayer.js HTTP/1.1\" 200 -\n",
      "127.0.0.1 - - [23/Apr/2023 17:28:19] \"GET /js/ZoneLayer.js HTTP/1.1\" 200 -\n",
      "127.0.0.1 - - [23/Apr/2023 17:28:19] \"GET /js/ConfigControl.js HTTP/1.1\" 200 -\n",
      "127.0.0.1 - - [23/Apr/2023 17:28:19] \"GET /js/LayerControl.js HTTP/1.1\" 200 -\n",
      "127.0.0.1 - - [23/Apr/2023 17:28:19] \"GET /js/Window.js HTTP/1.1\" 200 -\n",
      "127.0.0.1 - - [23/Apr/2023 17:28:19] \"GET /js/TimeBox.js HTTP/1.1\" 200 -\n",
      "127.0.0.1 - - [23/Apr/2023 17:28:19] \"GET /js/PlaybackControl.js HTTP/1.1\" 200 -\n",
      "127.0.0.1 - - [23/Apr/2023 17:28:20] \"GET /js/nerc_regions.geojson HTTP/1.1\" 200 -\n",
      "127.0.0.1 - - [23/Apr/2023 17:28:20] \"GET /img/synT.svg HTTP/1.1\" 304 -\n",
      "127.0.0.1 - - [23/Apr/2023 17:28:20] \"GET /img/synTEP.svg HTTP/1.1\" 304 -\n",
      "127.0.0.1 - - [23/Apr/2023 17:28:20] \"GET /img/syn.svg HTTP/1.1\" 304 -\n",
      "127.0.0.1 - - [23/Apr/2023 17:28:20] \"GET /img/bus.svg HTTP/1.1\" 304 -\n",
      "127.0.0.1 - - [23/Apr/2023 17:28:20] \"GET /img/dfig.svg HTTP/1.1\" 304 -\n",
      "127.0.0.1 - - [23/Apr/2023 17:28:20] \"GET /img/synTE.svg HTTP/1.1\" 304 -\n",
      "127.0.0.1 - - [23/Apr/2023 17:28:20] \"GET /img/synEP.svg HTTP/1.1\" 304 -\n",
      "127.0.0.1 - - [23/Apr/2023 17:28:20] \"GET /img/synE.svg HTTP/1.1\" 304 -\n",
      "127.0.0.1 - - [23/Apr/2023 17:28:20] \"GET /img/ltb-architecture.gif HTTP/1.1\" 304 -\n",
      "127.0.0.1 - - [23/Apr/2023 17:28:20] \"GET /js/nerc_regions.geojson HTTP/1.1\" 200 -\n"
     ]
    }
   ],
   "source": [
    "web.run(open_browser=True)"
   ]
  },
  {
   "cell_type": "code",
   "execution_count": 6,
   "metadata": {},
   "outputs": [
    {
     "name": "stderr",
     "output_type": "stream",
     "text": [
      "AGVis stopped, you can close the brwoser window.\n"
     ]
    }
   ],
   "source": [
    "web.stop()"
   ]
  }
 ],
 "metadata": {
  "kernelspec": {
   "display_name": "agvis",
   "language": "python",
   "name": "python3"
  },
  "language_info": {
   "codemirror_mode": {
    "name": "ipython",
    "version": 3
   },
   "file_extension": ".py",
   "mimetype": "text/x-python",
   "name": "python",
   "nbconvert_exporter": "python",
   "pygments_lexer": "ipython3",
   "version": "3.11.0"
  },
  "orig_nbformat": 4
 },
 "nbformat": 4,
 "nbformat_minor": 2
}
